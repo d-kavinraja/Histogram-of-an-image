{
 "cells": [
  {
   "cell_type": "code",
   "execution_count": null,
   "metadata": {},
   "outputs": [],
   "source": [
    "import cv2\n",
    "import matplotlib.pyplot as plt \n",
    "\n",
    "#gray scale and color image  \n",
    "gray = cv2.imread('images/black.jpeg')\n",
    "color = cv2.imread('images/colour.jpg')\n",
    "\n",
    "#resizing and printing the image \n",
    "gray= cv2.resize(gray, (400,400))\n",
    "cv2.imshow('GRAY IMAGE',gray)\n",
    "\n",
    "\n",
    "color= cv2.resize(color, (400,400))\n",
    "cv2.imshow('COLOR IMAGE',color)\n",
    "\n",
    "\n",
    "hist = cv2.calcHist([gray],[0],None,[256],[0,256])\n",
    "hist1 = cv2.calcHist([color],[1],None,[256],[0,256])\n",
    "plt.figure()\n",
    "plt.title(\"GRAYSCALE HISTOGRAM\")\n",
    "plt.xlabel('grayscale value')\n",
    "plt.ylabel('pixels count')\n",
    "plt.stem(hist)\n",
    "plt.show()\n",
    "\n",
    "plt.figure()\n",
    "plt.title(\"COLOR HISTOGRAM\")\n",
    "plt.xlabel('color value')\n",
    "plt.ylabel('pixels count')\n",
    "plt.stem(hist1)\n",
    "plt.show()\n",
    "cv2.waitKey(0)"
   ]
  }
 ],
 "metadata": {
  "kernelspec": {
   "display_name": "Python 3",
   "language": "python",
   "name": "python3"
  },
  "language_info": {
   "codemirror_mode": {
    "name": "ipython",
    "version": 3
   },
   "file_extension": ".py",
   "mimetype": "text/x-python",
   "name": "python",
   "nbconvert_exporter": "python",
   "pygments_lexer": "ipython3",
   "version": "3.11.0"
  },
  "orig_nbformat": 4
 },
 "nbformat": 4,
 "nbformat_minor": 2
}
