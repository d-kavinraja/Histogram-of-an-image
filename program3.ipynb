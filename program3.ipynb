{
 "cells": [
  {
   "cell_type": "code",
   "execution_count": 3,
   "metadata": {},
   "outputs": [],
   "source": [
    "import cv2\n",
    "import matplotlib.pyplot as plt \n",
    "\n",
    "Gray_image=cv2.imread('images/colour.jpg',0)\n",
    "equalize=cv2.equalizeHist(Gray_image)\n",
    "#resizing image \n",
    "Gray_image= cv2.resize(Gray_image, (400,400))\n",
    "equalize= cv2.resize(equalize, (400,400))\n",
    "#output\n",
    "cv2.imshow('GRAY IMAGE',Gray_image)\n",
    "cv2.imshow('EQUALIZED IMAGE',equalize)\n",
    "cv2.waitKey(0)\n",
    "cv2.destroyAllWindows()"
   ]
  }
 ],
 "metadata": {
  "kernelspec": {
   "display_name": "Python 3",
   "language": "python",
   "name": "python3"
  },
  "language_info": {
   "codemirror_mode": {
    "name": "ipython",
    "version": 3
   },
   "file_extension": ".py",
   "mimetype": "text/x-python",
   "name": "python",
   "nbconvert_exporter": "python",
   "pygments_lexer": "ipython3",
   "version": "3.11.0"
  },
  "orig_nbformat": 4
 },
 "nbformat": 4,
 "nbformat_minor": 2
}
