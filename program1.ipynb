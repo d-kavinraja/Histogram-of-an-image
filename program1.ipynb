{
 "cells": [
  {
   "cell_type": "code",
   "execution_count": null,
   "metadata": {},
   "outputs": [],
   "source": [
    "# Developed By: YUVARAJ.S\n",
    "# Register Number:22008589\n",
    "import cv2\n",
    "import matplotlib.pyplot as plt\n",
    "gray_img=cv2.imread(\"images/black.jpeg\",0)\n",
    "color_img=cv2.imread(\"images/colour.jpg\",-1)\n",
    "gray_img=cv2.cvtColor(gray_img,cv2.COLOR_BGR2RGB)\n",
    "color_img=cv2.cvtColor(color_img,cv2.COLOR_BGR2RGB)\n",
    "plt.title(\"Color Image\")\n",
    "plt.axis(\"off\")\n",
    "plt.imshow(color_img)\n",
    "plt.show()\n",
    "plt.title(\"Gray Scale Image\")\n",
    "plt.axis(\"off\")\n",
    "plt.imshow(gray_img)\n",
    "plt.show()\n"
   ]
  }
 ],
 "metadata": {
  "kernelspec": {
   "display_name": "Python 3",
   "language": "python",
   "name": "python3"
  },
  "language_info": {
   "codemirror_mode": {
    "name": "ipython",
    "version": 3
   },
   "file_extension": ".py",
   "mimetype": "text/x-python",
   "name": "python",
   "nbconvert_exporter": "python",
   "pygments_lexer": "ipython3",
   "version": "3.11.0"
  },
  "orig_nbformat": 4
 },
 "nbformat": 4,
 "nbformat_minor": 2
}
